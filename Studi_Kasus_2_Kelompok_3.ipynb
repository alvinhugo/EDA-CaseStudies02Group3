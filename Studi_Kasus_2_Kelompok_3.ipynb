{
  "cells": [
    {
      "cell_type": "markdown",
      "metadata": {
        "id": "view-in-github",
        "colab_type": "text"
      },
      "source": [
        "<a href=\"https://colab.research.google.com/github/alvinhugo/studi-kasus-02-kelompok-03/blob/main/Studi_Kasus_2_Kelompok_3.ipynb\" target=\"_parent\"><img src=\"https://colab.research.google.com/assets/colab-badge.svg\" alt=\"Open In Colab\"/></a>"
      ]
    },
    {
      "cell_type": "markdown",
      "metadata": {
        "id": "6j-JiR_PaCD5"
      },
      "source": [
        "**STUDI KASUS 2 KELOMPOK 3**\n",
        "1. Puput Hanifah Nuranisa     (11210940000017)\n",
        "2. Alvinhugo Zuhdi Nurharyadi (11210940000031)\n",
        "3. Rifaldi Achmad Faisal (11210940000027)\n",
        "4. Nurliana (11210940000026)\n",
        "5. Becky Karlina Sindy (11210940000013)\n",
        "6. M. Ikhwan Farhat (11210940000007)"
      ]
    },
    {
      "cell_type": "code",
      "execution_count": null,
      "metadata": {
        "id": "HPBR9UW2TQUZ"
      },
      "outputs": [],
      "source": [
        "import pandas as pd\n",
        "import seaborn as sns\n",
        "\n",
        "# Loading Data:\n",
        "try: # Running Locally, yakinkan \"file_\" berada di folder \"data\"\n",
        "    mengajar = pd.read_csv(\"/content/mengajar.csv\", low_memory = False, encoding='utf8')\n",
        "    dosen = pd.read_csv(\"/content/tb_dosen.csv\", low_memory = False, encoding='utf8')\n",
        "    kelas = pd.read_csv(\"/content/tb_kelas.csv\", low_memory = False, encoding='utf8')\n",
        "    krs = pd.read_csv(\"/content/tb_krs.csv\", low_memory = False, encoding='utf8')\n",
        "    mhs = pd.read_csv(\"/content/tb_mahasiswa.csv\", low_memory = False, encoding='utf8')\n",
        "    matkul = pd.read_csv(\"/content/tb_mata_kuliah.csv\", low_memory = False, encoding='utf8')\n",
        "    nilai = pd.read_csv(\"/content/tb_nilai.csv\", low_memory = False, encoding='utf8')\n",
        "except: # Running in Google Colab\n",
        "    !mkdir data\n",
        "    !wget -P data/ https://github.com/alvinhugo/studi-kasus-02-kelompok-03/blob/main/mengajar.csv\n",
        "    !wget -P data/ https://github.com/alvinhugo/studi-kasus-02-kelompok-03/blob/main/tb_dosen.csv\n",
        "    !wget -P data/ https://github.com/alvinhugo/studi-kasus-02-kelompok-03/blob/main/tb_kelas.csv\n",
        "    !wget -P data/ https://github.com/alvinhugo/studi-kasus-02-kelompok-03/blob/main/tb_krs.csv\n",
        "    !wget -P data/ https://github.com/alvinhugo/studi-kasus-02-kelompok-03/blob/main/tb_mahasiswa.csv\n",
        "    !wget -P data/ https://github.com/alvinhugo/studi-kasus-02-kelompok-03/blob/main/tb_mata_kuliah.csv\n",
        "    !wget -P data/ https://github.com/alvinhugo/studi-kasus-02-kelompok-03/blob/main/tb_nilai.csv"
      ]
    },
    {
      "cell_type": "code",
      "source": [
        "#1\n",
        "nilai_dosen = nilai.groupby(nilai['NIDN']).mean()[['nilai']]\n",
        "nilai_dosen = nilai_dosen.rename({'nilai': 'mean_nilai'}, axis=1) \n",
        "nilai_dosen = pd.merge(dosen, nilai_dosen, left_on='NIDN', right_index=True)\n",
        "nilai_dosen = nilai_dosen[['NIDN', 'nama', 'mean_nilai']]\n",
        "sb = nilai.groupby(nilai['NIDN']).std()[['nilai']]\n",
        "sb = sb.rename({'nilai': 'std_nilai'}, axis=1) \n",
        "nilai_dosen = nilai_dosen.set_index(['NIDN']) \n",
        "nilai_dosen = pd.concat([nilai_dosen, sb], axis=1)\n",
        "jml = pd.crosstab(nilai.NIDN, nilai.id_mata_kuliah)\n",
        "total = pd.merge(nilai_dosen, jml, left_on='NIDN', right_index=True)\n",
        "total"
      ],
      "metadata": {
        "colab": {
          "base_uri": "https://localhost:8080/",
          "height": 206
        },
        "id": "b_Vs7wJ6n32-",
        "outputId": "2f985202-cd81-40a2-d45e-f3f3c760c993"
      },
      "execution_count": null,
      "outputs": [
        {
          "output_type": "execute_result",
          "data": {
            "text/plain": [
              "               nama  mean_nilai  std_nilai  CS01  KAL01  KAL02  STA02\n",
              "NIDN                                                                 \n",
              "123    Andri Basuki   85.750000   7.741355     0      8      0      0\n",
              "234        zulfikar   80.428571  15.883504     7      0      0      0\n",
              "345   Annisa Fitria   60.090909  16.220077     0      0      4      7\n",
              "787            yudi   70.571429  13.010984     0      7      0      0"
            ],
            "text/html": [
              "\n",
              "  <div id=\"df-50ab8b2c-8527-4053-95e7-a981de198329\">\n",
              "    <div class=\"colab-df-container\">\n",
              "      <div>\n",
              "<style scoped>\n",
              "    .dataframe tbody tr th:only-of-type {\n",
              "        vertical-align: middle;\n",
              "    }\n",
              "\n",
              "    .dataframe tbody tr th {\n",
              "        vertical-align: top;\n",
              "    }\n",
              "\n",
              "    .dataframe thead th {\n",
              "        text-align: right;\n",
              "    }\n",
              "</style>\n",
              "<table border=\"1\" class=\"dataframe\">\n",
              "  <thead>\n",
              "    <tr style=\"text-align: right;\">\n",
              "      <th></th>\n",
              "      <th>nama</th>\n",
              "      <th>mean_nilai</th>\n",
              "      <th>std_nilai</th>\n",
              "      <th>CS01</th>\n",
              "      <th>KAL01</th>\n",
              "      <th>KAL02</th>\n",
              "      <th>STA02</th>\n",
              "    </tr>\n",
              "    <tr>\n",
              "      <th>NIDN</th>\n",
              "      <th></th>\n",
              "      <th></th>\n",
              "      <th></th>\n",
              "      <th></th>\n",
              "      <th></th>\n",
              "      <th></th>\n",
              "      <th></th>\n",
              "    </tr>\n",
              "  </thead>\n",
              "  <tbody>\n",
              "    <tr>\n",
              "      <th>123</th>\n",
              "      <td>Andri Basuki</td>\n",
              "      <td>85.750000</td>\n",
              "      <td>7.741355</td>\n",
              "      <td>0</td>\n",
              "      <td>8</td>\n",
              "      <td>0</td>\n",
              "      <td>0</td>\n",
              "    </tr>\n",
              "    <tr>\n",
              "      <th>234</th>\n",
              "      <td>zulfikar</td>\n",
              "      <td>80.428571</td>\n",
              "      <td>15.883504</td>\n",
              "      <td>7</td>\n",
              "      <td>0</td>\n",
              "      <td>0</td>\n",
              "      <td>0</td>\n",
              "    </tr>\n",
              "    <tr>\n",
              "      <th>345</th>\n",
              "      <td>Annisa Fitria</td>\n",
              "      <td>60.090909</td>\n",
              "      <td>16.220077</td>\n",
              "      <td>0</td>\n",
              "      <td>0</td>\n",
              "      <td>4</td>\n",
              "      <td>7</td>\n",
              "    </tr>\n",
              "    <tr>\n",
              "      <th>787</th>\n",
              "      <td>yudi</td>\n",
              "      <td>70.571429</td>\n",
              "      <td>13.010984</td>\n",
              "      <td>0</td>\n",
              "      <td>7</td>\n",
              "      <td>0</td>\n",
              "      <td>0</td>\n",
              "    </tr>\n",
              "  </tbody>\n",
              "</table>\n",
              "</div>\n",
              "      <button class=\"colab-df-convert\" onclick=\"convertToInteractive('df-50ab8b2c-8527-4053-95e7-a981de198329')\"\n",
              "              title=\"Convert this dataframe to an interactive table.\"\n",
              "              style=\"display:none;\">\n",
              "        \n",
              "  <svg xmlns=\"http://www.w3.org/2000/svg\" height=\"24px\"viewBox=\"0 0 24 24\"\n",
              "       width=\"24px\">\n",
              "    <path d=\"M0 0h24v24H0V0z\" fill=\"none\"/>\n",
              "    <path d=\"M18.56 5.44l.94 2.06.94-2.06 2.06-.94-2.06-.94-.94-2.06-.94 2.06-2.06.94zm-11 1L8.5 8.5l.94-2.06 2.06-.94-2.06-.94L8.5 2.5l-.94 2.06-2.06.94zm10 10l.94 2.06.94-2.06 2.06-.94-2.06-.94-.94-2.06-.94 2.06-2.06.94z\"/><path d=\"M17.41 7.96l-1.37-1.37c-.4-.4-.92-.59-1.43-.59-.52 0-1.04.2-1.43.59L10.3 9.45l-7.72 7.72c-.78.78-.78 2.05 0 2.83L4 21.41c.39.39.9.59 1.41.59.51 0 1.02-.2 1.41-.59l7.78-7.78 2.81-2.81c.8-.78.8-2.07 0-2.86zM5.41 20L4 18.59l7.72-7.72 1.47 1.35L5.41 20z\"/>\n",
              "  </svg>\n",
              "      </button>\n",
              "      \n",
              "  <style>\n",
              "    .colab-df-container {\n",
              "      display:flex;\n",
              "      flex-wrap:wrap;\n",
              "      gap: 12px;\n",
              "    }\n",
              "\n",
              "    .colab-df-convert {\n",
              "      background-color: #E8F0FE;\n",
              "      border: none;\n",
              "      border-radius: 50%;\n",
              "      cursor: pointer;\n",
              "      display: none;\n",
              "      fill: #1967D2;\n",
              "      height: 32px;\n",
              "      padding: 0 0 0 0;\n",
              "      width: 32px;\n",
              "    }\n",
              "\n",
              "    .colab-df-convert:hover {\n",
              "      background-color: #E2EBFA;\n",
              "      box-shadow: 0px 1px 2px rgba(60, 64, 67, 0.3), 0px 1px 3px 1px rgba(60, 64, 67, 0.15);\n",
              "      fill: #174EA6;\n",
              "    }\n",
              "\n",
              "    [theme=dark] .colab-df-convert {\n",
              "      background-color: #3B4455;\n",
              "      fill: #D2E3FC;\n",
              "    }\n",
              "\n",
              "    [theme=dark] .colab-df-convert:hover {\n",
              "      background-color: #434B5C;\n",
              "      box-shadow: 0px 1px 3px 1px rgba(0, 0, 0, 0.15);\n",
              "      filter: drop-shadow(0px 1px 2px rgba(0, 0, 0, 0.3));\n",
              "      fill: #FFFFFF;\n",
              "    }\n",
              "  </style>\n",
              "\n",
              "      <script>\n",
              "        const buttonEl =\n",
              "          document.querySelector('#df-50ab8b2c-8527-4053-95e7-a981de198329 button.colab-df-convert');\n",
              "        buttonEl.style.display =\n",
              "          google.colab.kernel.accessAllowed ? 'block' : 'none';\n",
              "\n",
              "        async function convertToInteractive(key) {\n",
              "          const element = document.querySelector('#df-50ab8b2c-8527-4053-95e7-a981de198329');\n",
              "          const dataTable =\n",
              "            await google.colab.kernel.invokeFunction('convertToInteractive',\n",
              "                                                     [key], {});\n",
              "          if (!dataTable) return;\n",
              "\n",
              "          const docLinkHtml = 'Like what you see? Visit the ' +\n",
              "            '<a target=\"_blank\" href=https://colab.research.google.com/notebooks/data_table.ipynb>data table notebook</a>'\n",
              "            + ' to learn more about interactive tables.';\n",
              "          element.innerHTML = '';\n",
              "          dataTable['output_type'] = 'display_data';\n",
              "          await google.colab.output.renderOutput(dataTable, element);\n",
              "          const docLink = document.createElement('div');\n",
              "          docLink.innerHTML = docLinkHtml;\n",
              "          element.appendChild(docLink);\n",
              "        }\n",
              "      </script>\n",
              "    </div>\n",
              "  </div>\n",
              "  "
            ]
          },
          "metadata": {},
          "execution_count": 91
        }
      ]
    },
    {
      "cell_type": "markdown",
      "source": [
        "# **Interpretasi**\n",
        "\n",
        "Berdasarkan hasil olah data, Andri Basuki diketahui cenderung memberi nilai lebih tinggi dibandingkan dengan dosen lain dengan ukuran penyebaran datanya relatif kecil dan Andri Basuki mengajar di kelas Kalkulus Dasar dengan 8 mahasiswa.\n",
        "Sedangkan Annisa Fitria cenderung memberi nilai rendah di bandingkan dosen lain dengan ukuran penyebaran datanya relatif kecil juga. Annisa Fitria mengajar di mata kuliah Kalkulus Lanjut dengan 4 mahasiswa dan Statistika Elementer dengan 7 mahasiswa. Jika dilihat dari jumlah mahasiswa yang diajarkan, Annisa fitria mengajar lebih banyak mahasiswa dibandingkan Andri Basuki."
      ],
      "metadata": {
        "id": "_JHU7AIcn8l1"
      }
    },
    {
      "cell_type": "code",
      "source": [
        "#2\n",
        "dosen = dosen[['NIDN','Pendidikan_Terakhir']]\n",
        "dosen = pd.merge(dosen, total, left_on='NIDN', right_index = True)\n",
        "dosen = dosen[['Pendidikan_Terakhir', 'mean_nilai']]\n",
        "group = dosen['mean_nilai'].groupby(dosen['Pendidikan_Terakhir'])\n",
        "group.mean()"
      ],
      "metadata": {
        "colab": {
          "base_uri": "https://localhost:8080/"
        },
        "id": "WqwGa7k4nR5T",
        "outputId": "0143ec47-ec46-4e15-a86b-8c4b312ceedb"
      },
      "execution_count": null,
      "outputs": [
        {
          "output_type": "execute_result",
          "data": {
            "text/plain": [
              "Pendidikan_Terakhir\n",
              "S2    65.331169\n",
              "S3    83.089286\n",
              "Name: mean_nilai, dtype: float64"
            ]
          },
          "metadata": {},
          "execution_count": 88
        }
      ]
    },
    {
      "cell_type": "markdown",
      "source": [
        "# **Interpretasi**\n",
        "\n",
        "Berdasarkan hasil olah data, dosen dengan pendidikan terakhir S3 cenderung memberikan nilai yang lebih tinggi dibanding dosen dengan pendidikan terakhir S2. Hal ini ditunjukkan dari rata-rata dosen berpendidikan terakhir S3 adalah sebesar 83.089286, sedangkan dosen berpendidikan terakhir S2 menunjukkan rata-rata nilai sebesar 65.331169"
      ],
      "metadata": {
        "id": "ZvniFG_vuslJ"
      }
    },
    {
      "cell_type": "code",
      "source": [
        "#3\n",
        "nilai1 = nilai.groupby(nilai['nim']).mean()[['nilai']]\n",
        "nilai1 = pd.merge(mhs, nilai1, left_on='nim',right_index=True)\n",
        "grouped = nilai1['nilai'].groupby(nilai1['Asal_Sekolah'])\n",
        "grouped.mean()"
      ],
      "metadata": {
        "colab": {
          "base_uri": "https://localhost:8080/"
        },
        "id": "K74tZhKKveDw",
        "outputId": "89acf6c9-34a1-4c8f-8903-4aeeb9119179"
      },
      "execution_count": null,
      "outputs": [
        {
          "output_type": "execute_result",
          "data": {
            "text/plain": [
              "Asal_Sekolah\n",
              "MA     71.937500\n",
              "SMK    85.900000\n",
              "SMU    66.416667\n",
              "Name: nilai, dtype: float64"
            ]
          },
          "metadata": {},
          "execution_count": 43
        }
      ]
    },
    {
      "cell_type": "markdown",
      "source": [
        "# **Interpretasi**\n",
        "\n",
        "Berdasarkan hasil olah data, terdapat perbedaan performa akademik antara mahasiswa dari Madrasah/SMK dan SMU. Hal ini ditunjukkan melalui rata-rata nilai mahasiswa yang berasal dari MA, SMK, dan SMU. Ditunjukkan bahwa mahasiswa dari SMU mempunyai rata-rata nilai terkecil, yaitu 66.416667. Mahasiswa dari MA mempunyai rata-rata nilai 71.937500. Terakhir, mahasiswa dari SMK mempunyai rata-rata nilai terbesar, yaitu 85.9"
      ],
      "metadata": {
        "id": "suws51mQ5JEC"
      }
    },
    {
      "cell_type": "code",
      "source": [
        "#4\n",
        "G = pd.merge(mhs, nilai, on=\"nim\")\n",
        "G = G[['nim', 'nama', 'Gender', 'nilai']]\n",
        "grouped = G['nilai'].groupby(G['Gender'])\n",
        "grouped.mean()"
      ],
      "metadata": {
        "colab": {
          "base_uri": "https://localhost:8080/"
        },
        "id": "3fQjo50nvhnM",
        "outputId": "73256ddd-6cbf-4f93-cd62-7b69130b6a80"
      },
      "execution_count": null,
      "outputs": [
        {
          "output_type": "execute_result",
          "data": {
            "text/plain": [
              "Gender\n",
              "Pria      73.888889\n",
              "Wanita    71.600000\n",
              "Name: nilai, dtype: float64"
            ]
          },
          "metadata": {},
          "execution_count": 44
        }
      ]
    },
    {
      "cell_type": "markdown",
      "source": [
        "# **Interpretasi**\n",
        "\n",
        "Berdasarkan hasil olah data, terdapat perbedaan pada kemampuan akademik antara mahasiswa dan mahasiswi. Hal ini ditunjukkan oleh rata-rata nilai. Untuk mahasiswa mempunyai rata-rata nilai sebesar 73.888889, sedangkan untuk mahasiswi mempunyai rata-rata nilai sebesar 71.6"
      ],
      "metadata": {
        "id": "kmIS59gQ5tUP"
      }
    },
    {
      "cell_type": "code",
      "source": [
        "#5\n",
        "\n",
        "#Variabel nilai\n",
        "nilai3 = nilai.groupby(nilai['nim']).mean()[['nilai']]\n",
        "\n",
        "#Variabel Angkatan\n",
        "nilai4 = mhs.groupby(mhs['nim']).mean()[['Angkatan']]\n",
        "\n",
        "#Penggabungan Dua DataFrame\n",
        "nilai_akt = pd.merge(nilai3, nilai4, left_on='nim', right_index=True)\n",
        "grouped = nilai_akt['nilai'].groupby(nilai_akt['Angkatan'])\n",
        "grouped.mean()"
      ],
      "metadata": {
        "colab": {
          "base_uri": "https://localhost:8080/"
        },
        "id": "qcf6tvOU8h1t",
        "outputId": "df09f800-2d06-4b9e-c99f-3768719bfa6c"
      },
      "execution_count": null,
      "outputs": [
        {
          "output_type": "execute_result",
          "data": {
            "text/plain": [
              "Angkatan\n",
              "2019.0    75.59375\n",
              "2020.0    73.00000\n",
              "Name: nilai, dtype: float64"
            ]
          },
          "metadata": {},
          "execution_count": 73
        }
      ]
    },
    {
      "cell_type": "markdown",
      "source": [
        "# **Interpretasi**\n",
        "\n",
        "Berdasarkan hasil olah data, ditunjukkan bahwa terdapat perbedaan prestasi akademik data antar angkatan mahasiswa. Hal ini terlihat bahwa untuk mahasiswa angkatan 2020 mempunya rata-rata nilai sebesar 73, sedangkan mahasiswa angkatan 2019 mempunyai rata-rata nilai sebesar 75.59375"
      ],
      "metadata": {
        "id": "FI7nKGQ-2mK4"
      }
    },
    {
      "cell_type": "markdown",
      "source": [
        "# **Permasalahan**\n",
        "\n",
        "- Terdapat beberapa data yang tidak diperlukan untuk mengolah data tersebut\n",
        "- Terdapat banyak variabel yang tidak dibutuhkan\n",
        "- Terdapat variabel yang memuat isi yang sama, namun penamaan variabelnya berbeda"
      ],
      "metadata": {
        "id": "ZS1KwFFwIMxM"
      }
    },
    {
      "cell_type": "markdown",
      "source": [
        "# **KESIMPULAN**\n",
        "\n",
        "Kesimpulan yang dapat kita ambil dari pengolahan data yang sudah dilakukan yaitu\n",
        "\n",
        "\n",
        "*   Ada kecenderungan dosen memberikan nilai yang lebih tinggi maupun rendah.\n",
        "*   Pendidikan terakhir dari seorang dosen mempengaruhi penilaiannya untuk mahasiswa, tetapi hal ini masih kurang akurat dan kredibel karena data yg kami olah sedikit.\n",
        "*   Perbedaan asal sekolah mahasiswa mempengaruhi performa akademiknya, yaitu dilihat dari perolehan rata-rata nilainya.\n",
        "*   Perbedaan jenis kelamin mahasiswa sedikit mempengaruhi performa akademiknya, yaitu dilihat dari perolehan rata-rata nilainya.\n",
        "*   Perbedaan tahun angkatan mahasiswa mempunyai dampak dalam performa akademiknya, namun dampak tersebut tidak signifikan.\n",
        "\n",
        "\n",
        "\n",
        "\n",
        "\n",
        "\n",
        "\n"
      ],
      "metadata": {
        "id": "bkqPumu5_bdX"
      }
    }
  ],
  "metadata": {
    "colab": {
      "provenance": [],
      "collapsed_sections": [],
      "include_colab_link": true
    },
    "kernelspec": {
      "display_name": "Python 3",
      "name": "python3"
    },
    "language_info": {
      "name": "python"
    }
  },
  "nbformat": 4,
  "nbformat_minor": 0
}